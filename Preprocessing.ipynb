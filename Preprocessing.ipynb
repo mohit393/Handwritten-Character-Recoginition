{
  "cells": [
    {
      "cell_type": "markdown",
      "id": "e7e30bfc",
      "metadata": {
        "id": "e7e30bfc"
      },
      "source": [
        "The below code is for preprocessing the images. relevant comments are given in the code.\n",
        "The steps are as follows:\n",
        "i. adding padding to the images\n",
        "ii. grayscaling the image\n",
        "iii. inverting the image\n",
        "iv. applying gaussian blur\n",
        "v. adpative thresholding to convert image to black and white\n",
        "vi. resizing all images to 28X28 pixels"
      ]
    },
    {
      "cell_type": "code",
      "execution_count": null,
      "id": "81ac411c",
      "metadata": {
        "scrolled": false,
        "id": "81ac411c"
      },
      "outputs": [],
      "source": [
        "#preprocessing images\n",
        "from matplotlib import pyplot as plt\n",
        "import cv2\n",
        "import numpy as np\n",
        "import re\n",
        "from string import ascii_lowercase\n",
        "import os\n",
        "from pathlib import Path\n",
        "\n",
        "# adding padding to the image\n",
        "def padding(img):\n",
        "    w, h, l = img.shape\n",
        "    if w == h:\n",
        "        return img\n",
        "    elif w < h:\n",
        "        left = (h - w)//2\n",
        "        add_border = cv2.copyMakeBorder(img,0,0,left,left,cv2.BORDER_REPLICATE)\n",
        "        return add_border\n",
        "    else:\n",
        "        top = (w - h)//2\n",
        "        add_border = cv2.copyMakeBorder(img,top,top,0,0,cv2.BORDER_REPLICATE)\n",
        "        return add_border\n",
        "\n",
        "# removing noise manually using dilation, erosion and blurring of the images\n",
        "def remove_noise(img):\n",
        "    # import numpy as np\n",
        "    kernel = np.ones((1, 1), np.uint8)\n",
        "    img = cv2.dilate(img, kernel, iterations=1)\n",
        "    kernel = np.ones((1, 1), np.uint8)\n",
        "    img = cv2.erode(img, kernel, iterations=1)\n",
        "    img = cv2.morphologyEx(img, cv2.MORPH_CLOSE, kernel)\n",
        "    denoised_img = cv2.medianBlur(img, 3)\n",
        "    return denoised_img\n",
        "\n",
        "# preprocessing the image using all the above function systematically\n",
        "def preprocessing(img):\n",
        "    pad_img = padding(img)\n",
        "    # grayscaling the image\n",
        "    gray_img = cv2.cvtColor(pad_img, cv2.COLOR_BGR2GRAY)\n",
        "    # inverting the image colors\n",
        "    inv_img = cv2.bitwise_not(gray_img)\n",
        "    #using inbuilt function to create gaussian blur\n",
        "    blur_img = cv2.GaussianBlur(inv_img, (5,5), -10)\n",
        "    # converting the image to black and white using adaptive thresholding\n",
        "    bw_img = cv2.adaptiveThreshold(blur_img, 255, cv2.ADAPTIVE_THRESH_MEAN_C, cv2.THRESH_BINARY_INV, 3, 0 )\n",
        "    # removing noise using in-built function\n",
        "    denoise_img = cv2.fastNlMeansDenoising(bw_img, None, 20, 7, 31)\n",
        "    for i in range(3):\n",
        "        denoise_img = cv2.fastNlMeansDenoising(denoise_img, None, 20, 7, 31)\n",
        "    for i in range(8):\n",
        "        denoise_img = remove_noise(denoise_img)\n",
        "    # inverting the image again\n",
        "    reinv_img = cv2.bitwise_not(denoise_img)\n",
        "    # resizing the image to 28X28 pixels for our neural network\n",
        "    final_img = cv2.resize(reinv_img, (28,28), interpolation=cv2.INTER_AREA)\n",
        "    return final_img\n",
        "\n",
        "# parent directory of the stored images\n",
        "path = r\"C:\\Users\\amite\\OneDrive\\Desktop\\Explo\"\n",
        "p = Path(path)\n",
        "\n",
        "# function to make folders for future labelling\n",
        "def folder():\n",
        "    path = r\"C:\\Users\\amite\\OneDrive\\Desktop\\Explo\\Preprocessed\\\\\"\n",
        "    for c in ascii_lowercase:\n",
        "        os.mkdir(os.path.join(path, c))\n",
        "        os.mkdir(os.path.join(path, c+'_'))\n",
        "folder()\n",
        "\n",
        "# indexing the images while saving\n",
        "index=0\n",
        "# iterating through all the cropped images, preprocessing them and saving them in the made labelled folders\n",
        "for i in p.glob(\"**/*\"):\n",
        "    pattern = '.*(jpe?g|png)'\n",
        "    # matching the pattern as .png to recognise images\n",
        "    if re.match(pattern, str(i)) and len(str(i.name)) < 9:\n",
        "        img_path = str(i)\n",
        "        image = cv2.imread(img_path, cv2.IMREAD_UNCHANGED)\n",
        "        image = preprocessing(image)\n",
        "        dest_path = r\"C:\\Users\\amite\\OneDrive\\Desktop\\Explo\\Preprocessed\\\\\"\n",
        "        if i.name[0].isupper():\n",
        "            dest_path+=i.name[0]+\"_\"\n",
        "        else:\n",
        "            dest_path+=i.name[0]\n",
        "        os.chdir(dest_path)\n",
        "        cv2.imwrite(str(index)+\".png\", image)\n",
        "        print(index, \"file(s) processed\")\n",
        "        index +=1"
      ]
    },
    {
      "cell_type": "markdown",
      "id": "c19d78c7",
      "metadata": {
        "id": "c19d78c7"
      },
      "source": [
        "The code below is for cleaning the borders of the images by setting border pixel arrays (upto 2 pixel width) to 0 (black)."
      ]
    },
    {
      "cell_type": "code",
      "execution_count": null,
      "id": "af521321",
      "metadata": {
        "id": "af521321"
      },
      "outputs": [],
      "source": [
        "# removing border pixels that were present in the image\n",
        "import pandas as pd\n",
        "\n",
        "# function to remove border pixels which can cause inconsistency in data\n",
        "def cleanborder(img):\n",
        "    for i in range(2):\n",
        "        img[i][:]=(0,0,0)\n",
        "    for i in range(2):\n",
        "        img[27-i][:]=(0,0,0)\n",
        "    for i in range(2):\n",
        "        img[:][i]=(0,0,0)\n",
        "    for i in range(2):\n",
        "        img[:][27-i]=(0,0,0)\n",
        "    return img\n",
        "\n",
        "# making the required label folders\n",
        "def folder():\n",
        "    path = r\"C:\\Users\\amite\\OneDrive\\Desktop\\Explo\\More_Preprocessed\\\\\"\n",
        "    for c in ascii_lowercase:\n",
        "        os.mkdir(os.path.join(path, c))\n",
        "        os.mkdir(os.path.join(path, c+'_'))\n",
        "folder()\n",
        "\n",
        "parent_folder_path = r\"C:\\Users\\amite\\OneDrive\\Desktop\\Explo\\Preprocessed\\\\\"\n",
        "p = Path(parent_folder_path)\n",
        "\n",
        "# iterating through all preprocessed images, removing borders, then saving them in new folder\n",
        "x = 0\n",
        "for i in p.glob(\"**/*\"):\n",
        "    pattern = '.*(jpe?g|png)'\n",
        "    if re.match(pattern, str(i)):\n",
        "        img_path = str(i)\n",
        "        image = cv2.imread(img_path)\n",
        "        cleaned_img = cleanborder(image)\n",
        "        dest_path = r\"C:\\Users\\amite\\OneDrive\\Desktop\\Explo\\More_Preprocessed\\\\\"\n",
        "        if str(i.parent)[-1]==\"_\":\n",
        "            dest_path+=str(i.parent)[-2]+\"_\"\n",
        "        else:\n",
        "            dest_path+=str(i.parent)[-1]\n",
        "        os.chdir(dest_path)\n",
        "        print(dest_path)\n",
        "        cv2.imwrite(str(x)+\".png\", cleaned_img)\n",
        "        print(x, \"file(s) processed\")\n",
        "        x += 1"
      ]
    },
    {
      "cell_type": "markdown",
      "id": "e9642031",
      "metadata": {
        "id": "e9642031"
      },
      "source": [
        "Previously images were not labelled well so we have relabelled them."
      ]
    },
    {
      "cell_type": "code",
      "execution_count": null,
      "id": "51f7c36f",
      "metadata": {
        "id": "51f7c36f"
      },
      "outputs": [],
      "source": [
        "# labelling the data\n",
        "import shutil\n",
        "source_folder = r\"C:\\Users\\amite\\OneDrive\\Desktop\\Exploration-2\\testing\\\\\"\n",
        "dest_folder = r\"C:\\Users\\amite\\OneDrive\\Desktop\\preprocesses\\labelled_images\\\\\"\n",
        "def makefolder():\n",
        "    for cha in ascii_lowercase:\n",
        "        os.makedirs(os.path.join(dest_folder, cha),exist_ok=True)\n",
        "        os.makedirs(os.path.join(dest_folder, cha+'_'),exist_ok=True)\n",
        "makefolder()\n",
        "for i in (os.listdir(source_folder)):\n",
        "    for count,j in enumerate(os.listdir(source_folder+i)):\n",
        "        src = source_folder + i + \"\\\\\" + j\n",
        "        dst = dest_folder + i + \"\\\\\" + str(count+800) + \".png\"\n",
        "        # print(src,'\\n',dst)\n",
        "        shutil.copy(src,dst)\n",
        "        print(\"Processed image:\",i,count)"
      ]
    },
    {
      "cell_type": "markdown",
      "id": "4e954d69",
      "metadata": {
        "id": "4e954d69"
      },
      "source": [
        "Splitting the images into training and testing data in 60:40 split."
      ]
    },
    {
      "cell_type": "code",
      "execution_count": null,
      "id": "d703c1e4",
      "metadata": {
        "id": "d703c1e4"
      },
      "outputs": [],
      "source": [
        "# splitting testing and training data\n",
        "# all the required folder paths\n",
        "root_dir = r\"C:\\Users\\amite\\OneDrive\\Desktop\\preprocesses\\labelled_images\\\\\"\n",
        "split_dir = r\"C:\\Users\\amite\\OneDrive\\Desktop\\preprocesses\\split_data\\\\\"\n",
        "# ratio for splitting\n",
        "test_ratio = 0.4\n",
        "# using python module\n",
        "!pip install split-folders\n",
        "import splitfolders\n",
        "input_folder = root_dir\n",
        "output =  split_dir\n",
        "\n",
        "splitfolders.ratio(input_folder, output=output, seed=42, ratio=(1-test_ratio,test_ratio))"
      ]
    }
  ],
  "metadata": {
    "kernelspec": {
      "display_name": "Python 3",
      "language": "python",
      "name": "python3"
    },
    "language_info": {
      "codemirror_mode": {
        "name": "ipython",
        "version": 3
      },
      "file_extension": ".py",
      "mimetype": "text/x-python",
      "name": "python",
      "nbconvert_exporter": "python",
      "pygments_lexer": "ipython3",
      "version": "3.10.4"
    },
    "vscode": {
      "interpreter": {
        "hash": "26de051ba29f2982a8de78e945f0abaf191376122a1563185a90213a26c5da77"
      }
    },
    "colab": {
      "provenance": []
    }
  },
  "nbformat": 4,
  "nbformat_minor": 5
}